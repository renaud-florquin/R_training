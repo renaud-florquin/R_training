{
  "nbformat": 4,
  "nbformat_minor": 0,
  "metadata": {
    "colab": {
      "name": "fsm",
      "provenance": [],
      "collapsed_sections": [],
      "include_colab_link": true
    },
    "kernelspec": {
      "name": "python3",
      "display_name": "Python 3"
    },
    "accelerator": "GPU"
  },
  "cells": [
    {
      "cell_type": "markdown",
      "metadata": {
        "id": "view-in-github",
        "colab_type": "text"
      },
      "source": [
        "<a href=\"https://colab.research.google.com/github/renaud-florquin/R_training/blob/master/fsm.ipynb\" target=\"_parent\"><img src=\"https://colab.research.google.com/assets/colab-badge.svg\" alt=\"Open In Colab\"/></a>"
      ]
    },
    {
      "cell_type": "markdown",
      "metadata": {
        "id": "HdEBWGEtzj2W",
        "colab_type": "text"
      },
      "source": [
        "# Table driven implementation of FSM"
      ]
    },
    {
      "cell_type": "code",
      "metadata": {
        "id": "ePBj3P-hziq7",
        "colab_type": "code",
        "colab": {}
      },
      "source": [
        "from enum import Enum"
      ],
      "execution_count": 0,
      "outputs": []
    },
    {
      "cell_type": "code",
      "metadata": {
        "id": "PW9_p4MJ1j1F",
        "colab_type": "code",
        "colab": {}
      },
      "source": [
        "class PV_STATES(Enum):\n",
        "    PV_OFF = 0\n",
        "    PV_ON = 1\n",
        "    PV_CLOSING = 2"
      ],
      "execution_count": 0,
      "outputs": []
    },
    {
      "cell_type": "code",
      "metadata": {
        "id": "cA29jQ5-2oIr",
        "colab_type": "code",
        "colab": {}
      },
      "source": [
        "class PV_EVENTS(Enum):\n",
        "    PV_CLOSE = 0\n",
        "    PV_OPEN = 1"
      ],
      "execution_count": 0,
      "outputs": []
    },
    {
      "cell_type": "code",
      "metadata": {
        "id": "OGcy97d12veD",
        "colab_type": "code",
        "colab": {
          "base_uri": "https://localhost:8080/",
          "height": 34
        },
        "outputId": "081fbb79-4e17-4ed4-8985-e68a7d84dc79"
      },
      "source": [
        "PV_STATES.PV_ON"
      ],
      "execution_count": 4,
      "outputs": [
        {
          "output_type": "execute_result",
          "data": {
            "text/plain": [
              "<PV_STATES.PV_ON: 1>"
            ]
          },
          "metadata": {
            "tags": []
          },
          "execution_count": 4
        }
      ]
    },
    {
      "cell_type": "code",
      "metadata": {
        "id": "FGxn8DKS3sUb",
        "colab_type": "code",
        "colab": {}
      },
      "source": [
        "# transition action definitions\n",
        "def on_transition(fsm, event):\n",
        "    print('Open PV')\n",
        "    return PV_STATES.PV_ON\n",
        "\n",
        "def off_transition(fsm, event):\n",
        "    print('Closing PV')\n",
        "    return PV_STATES.PV_CLOSING"
      ],
      "execution_count": 0,
      "outputs": []
    },
    {
      "cell_type": "code",
      "metadata": {
        "id": "JYnSaYic24Ks",
        "colab_type": "code",
        "colab": {}
      },
      "source": [
        "# transitions definitions\n",
        "on_transition = {\n",
        "    'event_id': PV_EVENTS.PV_OPEN,\n",
        "    'action': on_transition\n",
        "}\n",
        "off_transition = {\n",
        "    'event_id': PV_EVENTS.PV_CLOSE,\n",
        "    'action': off_transition\n",
        "}"
      ],
      "execution_count": 0,
      "outputs": []
    },
    {
      "cell_type": "code",
      "metadata": {
        "id": "vPV_yT6h5blp",
        "colab_type": "code",
        "colab": {}
      },
      "source": [
        "# activity definitions\n",
        "def do_closing(fsm):\n",
        "    fsm['data']['closing_delay'] += 1 \n",
        "    if fsm['data']['ovp']:\n",
        "        print('OVP detected')\n",
        "        return PV_STATES.PV_OFF\n",
        "    else:\n",
        "        if fsm['data']['closing_delay'] >= 3:\n",
        "            return PV_STATES.PV_OFF\n",
        "        else:\n",
        "            print('wait ...')\n",
        "            return PV_STATES.PV_CLOSING\n",
        "\n",
        "def do_open(fsm):\n",
        "    if fsm['data']['ovp']:\n",
        "        print('OVP detected')\n",
        "        return PV_STATES.PV_OFF\n",
        "    else:\n",
        "        print('Checks OK')\n",
        "        return PV_STATES.PV_ON\n",
        "\n",
        "# entry actions\n",
        "def on_entry_close(fsm):\n",
        "    print('PV Close')\n",
        "    print('Stop PWM')\n",
        "\n",
        "def on_entry_open(fsm):\n",
        "    print('PV Open')\n",
        "    print('Start PWM')\n",
        "    print('Start Regulation')\n",
        "\n",
        "def on_entry_closing(fsm):\n",
        "    print('PV Closing')\n",
        "    print('Stop regulation')\n",
        "    print('Phase shift -90°')\n",
        "    fsm['data']['closing_delay'] = 0    "
      ],
      "execution_count": 0,
      "outputs": []
    },
    {
      "cell_type": "code",
      "metadata": {
        "id": "xplb9dVi4jkg",
        "colab_type": "code",
        "colab": {}
      },
      "source": [
        "off_state = {\n",
        "    'state_id': PV_STATES.PV_OFF,\n",
        "    'transitions': [on_transition], \n",
        "    'do': None, \n",
        "    'on_entry': on_entry_close, \n",
        "    'on_exit': None \n",
        "}\n",
        "\n",
        "on_state = {\n",
        "    'state_id': PV_STATES.PV_ON,\n",
        "    'transitions': [off_transition], \n",
        "    'do': do_open, \n",
        "    'on_entry': on_entry_open, \n",
        "    'on_exit': None \n",
        "}\n",
        "\n",
        "closing_state = {\n",
        "    'state_id': PV_STATES.PV_CLOSING,\n",
        "    'transitions': [], \n",
        "    'do': do_closing, \n",
        "    'on_entry': on_entry_closing, \n",
        "    'on_exit': None \n",
        "}"
      ],
      "execution_count": 0,
      "outputs": []
    },
    {
      "cell_type": "code",
      "metadata": {
        "id": "-g408W_-6yM2",
        "colab_type": "code",
        "colab": {}
      },
      "source": [
        "pv_fsm = {\n",
        "    'init_state': off_state,\n",
        "    'current_state': None,\n",
        "    'states': {\n",
        "    },\n",
        "    'data': {\n",
        "        'closing_delay': 0,\n",
        "        'ovp': False\n",
        "    }\n",
        "}"
      ],
      "execution_count": 0,
      "outputs": []
    },
    {
      "cell_type": "code",
      "metadata": {
        "id": "Fdskg8fO7w4F",
        "colab_type": "code",
        "colab": {}
      },
      "source": [
        "def fsm_init(fsm, states):\n",
        "    for state in states:\n",
        "        fsm['states'][state['state_id']] = state \n",
        "    fsm['current_state'] = fsm['init_state']"
      ],
      "execution_count": 0,
      "outputs": []
    },
    {
      "cell_type": "code",
      "metadata": {
        "id": "L5N1F0_yAwJ2",
        "colab_type": "code",
        "colab": {}
      },
      "source": [
        "def fsm_find_transition(fsm, event_id):\n",
        "    for transition in fsm['current_state']['transitions']:\n",
        "        if transition['event_id'] == event_id:\n",
        "            return transition\n",
        "    return None"
      ],
      "execution_count": 0,
      "outputs": []
    },
    {
      "cell_type": "code",
      "metadata": {
        "id": "TWqXXd29Aw_W",
        "colab_type": "code",
        "colab": {}
      },
      "source": [
        "def fsm_find_state(fsm, state_id):\n",
        "    return fsm['states'].get(state_id, None)"
      ],
      "execution_count": 0,
      "outputs": []
    },
    {
      "cell_type": "code",
      "metadata": {
        "id": "JOCJVRVZ4QLd",
        "colab_type": "code",
        "colab": {}
      },
      "source": [
        "def fsm_accept_event(fsm, event):\n",
        "    transition = fsm_find_transition(fsm, event)\n",
        "    if transition:\n",
        "        print('Transition found for state: {} and event: {}'.format(fsm['current_state']['state_id'], event))\n",
        "        if fsm['current_state']['on_exit']:\n",
        "            fsm['current_state']['on_exit'](fsm)\n",
        "        next_state_id = transition['action'](fsm, event)\n",
        "        fsm['current_state'] = fsm_find_state(fsm, next_state_id)\n",
        "        if fsm['current_state']['on_entry']:\n",
        "            fsm['current_state']['on_entry'](fsm)\n",
        "    else:\n",
        "        print('! No transition found for state: {} and event: {}'.format(fsm['current_state']['state_id'], event))\n",
        "\n",
        "def fsm_do(fsm):\n",
        "    print('Do activity for state: {}'.format(fsm['current_state']['state_id']))\n",
        "    if fsm['current_state']['do']:\n",
        "        next_state_id = fsm['current_state']['do'](fsm)\n",
        "        if next_state_id != fsm['current_state']['state_id']: \n",
        "            if fsm['current_state']['on_exit']:\n",
        "                fsm['current_state']['on_exit'](fsm)\n",
        "            fsm['current_state'] = fsm_find_state(fsm, next_state_id)\n",
        "            if fsm['current_state']['on_entry']:\n",
        "                fsm['current_state']['on_entry'](fsm)\n"
      ],
      "execution_count": 0,
      "outputs": []
    },
    {
      "cell_type": "code",
      "metadata": {
        "id": "M2KS-Wv3PrrD",
        "colab_type": "code",
        "colab": {}
      },
      "source": [
        "def init():\n",
        "    fsm_init(pv_fsm, [off_state, on_state, closing_state])  \n",
        "    pv_fsm['data'] = {\n",
        "        'closing_delay': 0,\n",
        "        'ovp': False\n",
        "    }"
      ],
      "execution_count": 0,
      "outputs": []
    },
    {
      "cell_type": "code",
      "metadata": {
        "id": "nJd0sEiUOi4L",
        "colab_type": "code",
        "colab": {}
      },
      "source": [
        "program1 = \"\"\"\n",
        "init()\n",
        "fsm_do(pv_fsm)\n",
        "fsm_do(pv_fsm)\n",
        "fsm_do(pv_fsm)\n",
        "fsm_accept_event(pv_fsm, PV_EVENTS.PV_OPEN)\n",
        "fsm_do(pv_fsm)\n",
        "fsm_do(pv_fsm)\n",
        "fsm_do(pv_fsm)\n",
        "fsm_accept_event(pv_fsm, PV_EVENTS.PV_CLOSE)\n",
        "fsm_do(pv_fsm)\n",
        "fsm_do(pv_fsm)\n",
        "fsm_do(pv_fsm)\n",
        "fsm_do(pv_fsm)\n",
        "fsm_do(pv_fsm)\n",
        "\"\"\""
      ],
      "execution_count": 0,
      "outputs": []
    },
    {
      "cell_type": "code",
      "metadata": {
        "id": "xibRHlo5O8F_",
        "colab_type": "code",
        "colab": {
          "base_uri": "https://localhost:8080/",
          "height": 487
        },
        "outputId": "327f055e-43b7-4a21-b955-1c73da17dd1e"
      },
      "source": [
        "exec(program1)"
      ],
      "execution_count": 16,
      "outputs": [
        {
          "output_type": "stream",
          "text": [
            "Do activity for state: PV_STATES.PV_OFF\n",
            "Do activity for state: PV_STATES.PV_OFF\n",
            "Do activity for state: PV_STATES.PV_OFF\n",
            "Transition found for state: PV_STATES.PV_OFF and event: PV_EVENTS.PV_OPEN\n",
            "Open PV\n",
            "PV Open\n",
            "Start PWM\n",
            "Start Regulation\n",
            "Do activity for state: PV_STATES.PV_ON\n",
            "Checks OK\n",
            "Do activity for state: PV_STATES.PV_ON\n",
            "Checks OK\n",
            "Do activity for state: PV_STATES.PV_ON\n",
            "Checks OK\n",
            "Transition found for state: PV_STATES.PV_ON and event: PV_EVENTS.PV_CLOSE\n",
            "Closing PV\n",
            "PV Closing\n",
            "Stop regulation\n",
            "Phase shift -90°\n",
            "Do activity for state: PV_STATES.PV_CLOSING\n",
            "wait ...\n",
            "Do activity for state: PV_STATES.PV_CLOSING\n",
            "wait ...\n",
            "Do activity for state: PV_STATES.PV_CLOSING\n",
            "PV Close\n",
            "Stop PWM\n",
            "Do activity for state: PV_STATES.PV_OFF\n",
            "Do activity for state: PV_STATES.PV_OFF\n"
          ],
          "name": "stdout"
        }
      ]
    },
    {
      "cell_type": "code",
      "metadata": {
        "id": "OROUFpBeJCMr",
        "colab_type": "code",
        "colab": {}
      },
      "source": [
        "program2 = \"\"\"\n",
        "init()\n",
        "fsm_accept_event(pv_fsm, PV_EVENTS.PV_CLOSE)\n",
        "fsm_accept_event(pv_fsm, PV_EVENTS.PV_OPEN)\n",
        "fsm_do(pv_fsm)\n",
        "fsm_accept_event(pv_fsm, PV_EVENTS.PV_OPEN)\n",
        "fsm_do(pv_fsm)\n",
        "pv_fsm['data']['ovp'] = True\n",
        "fsm_do(pv_fsm)\n",
        "fsm_do(pv_fsm)\n",
        "\"\"\""
      ],
      "execution_count": 0,
      "outputs": []
    },
    {
      "cell_type": "code",
      "metadata": {
        "id": "jyAffBJgJF4b",
        "colab_type": "code",
        "colab": {
          "base_uri": "https://localhost:8080/",
          "height": 286
        },
        "outputId": "929d6c10-aae9-474d-d1be-0823bc532dd5"
      },
      "source": [
        "exec(program2)"
      ],
      "execution_count": 18,
      "outputs": [
        {
          "output_type": "stream",
          "text": [
            "! No transition found for state: PV_STATES.PV_OFF and event: PV_EVENTS.PV_CLOSE\n",
            "Transition found for state: PV_STATES.PV_OFF and event: PV_EVENTS.PV_OPEN\n",
            "Open PV\n",
            "PV Open\n",
            "Start PWM\n",
            "Start Regulation\n",
            "Do activity for state: PV_STATES.PV_ON\n",
            "Checks OK\n",
            "! No transition found for state: PV_STATES.PV_ON and event: PV_EVENTS.PV_OPEN\n",
            "Do activity for state: PV_STATES.PV_ON\n",
            "Checks OK\n",
            "Do activity for state: PV_STATES.PV_ON\n",
            "OVP detected\n",
            "PV Close\n",
            "Stop PWM\n",
            "Do activity for state: PV_STATES.PV_OFF\n"
          ],
          "name": "stdout"
        }
      ]
    },
    {
      "cell_type": "code",
      "metadata": {
        "id": "w5Azc_S7JQ2M",
        "colab_type": "code",
        "colab": {}
      },
      "source": [
        "program3 = \"\"\"\n",
        "init()\n",
        "fsm_accept_event(pv_fsm, PV_EVENTS.PV_OPEN)\n",
        "fsm_do(pv_fsm)\n",
        "fsm_accept_event(pv_fsm, PV_EVENTS.PV_CLOSE)\n",
        "fsm_do(pv_fsm)\n",
        "pv_fsm['data']['ovp'] = True\n",
        "fsm_do(pv_fsm)\n",
        "fsm_do(pv_fsm)\n",
        "\"\"\""
      ],
      "execution_count": 0,
      "outputs": []
    },
    {
      "cell_type": "code",
      "metadata": {
        "id": "c-q6q7SHRHzZ",
        "colab_type": "code",
        "colab": {
          "base_uri": "https://localhost:8080/",
          "height": 336
        },
        "outputId": "30a6ca3e-836f-4ad1-f495-56af2a231850"
      },
      "source": [
        "exec(program3)"
      ],
      "execution_count": 20,
      "outputs": [
        {
          "output_type": "stream",
          "text": [
            "Transition found for state: PV_STATES.PV_OFF and event: PV_EVENTS.PV_OPEN\n",
            "Open PV\n",
            "PV Open\n",
            "Start PWM\n",
            "Start Regulation\n",
            "Do activity for state: PV_STATES.PV_ON\n",
            "Checks OK\n",
            "Transition found for state: PV_STATES.PV_ON and event: PV_EVENTS.PV_CLOSE\n",
            "Closing PV\n",
            "PV Closing\n",
            "Stop regulation\n",
            "Phase shift -90°\n",
            "Do activity for state: PV_STATES.PV_CLOSING\n",
            "wait ...\n",
            "Do activity for state: PV_STATES.PV_CLOSING\n",
            "OVP detected\n",
            "PV Close\n",
            "Stop PWM\n",
            "Do activity for state: PV_STATES.PV_OFF\n"
          ],
          "name": "stdout"
        }
      ]
    },
    {
      "cell_type": "code",
      "metadata": {
        "id": "zrd1OC_CRIj2",
        "colab_type": "code",
        "colab": {}
      },
      "source": [
        ""
      ],
      "execution_count": 0,
      "outputs": []
    }
  ]
}